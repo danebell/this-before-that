{
 "cells": [
  {
   "cell_type": "code",
   "execution_count": 85,
   "metadata": {
    "collapsed": false
   },
   "outputs": [],
   "source": [
    "import pandas as pd\n",
    "from sklearn.metrics import precision_recall_fscore_support, classification_report\n",
    "\n",
    "df = pd.read_csv(\"results.tsv\",delimiter=\"\\t\")\n",
    "\n",
    "gold = df.Gold.values\n",
    "predictions = df.Predicted.values\n",
    "class_labels = sorted(set(df.Gold.values))\n",
    "\n",
    "class Score(object):\n",
    "    def __init__(self, class_label, p, r, f1):\n",
    "        self.class_label = class_label\n",
    "        self.precision = p\n",
    "        self.recall = r\n",
    "        self.f1 = f1\n",
    "        \n",
    "    def summary(self):\n",
    "        print(\"{}\\tPrecision\\tRecall\\tF1\".format(self.class_label))\n",
    "        print(\"{:.2f}\\t{:.2f}\\t{:.2f}\".format(self.precision, self.recall, self.f1))\n",
    "\n",
    "class Evaluator(object):\n",
    "    def __init__(self, results_file, neg_class = \"None\"):\n",
    "        self.results_file = results_file\n",
    "        self.neg_class = neg_class\n",
    "        self.smoothing = 0.00001\n",
    "        \n",
    "    def compute_class_score(self, class_label):\n",
    "        df = pd.read_csv(self.results_file, delimiter=\"\\t\")\n",
    "        if class_label != self.neg_class:\n",
    "            # ignore the negative majority class\n",
    "            df = df[df.Gold != self.neg_class]\n",
    "        tp = len(df[(df.Gold == df.Predicted) & (df.Gold == class_label)])\n",
    "        fp = len(df[(df.Predicted == class_label) & (df.Gold != class_label)])\n",
    "        p = tp / (tp + fp + self.smoothing)\n",
    "        fn = len(df[df.Gold == class_label]) - tp\n",
    "        r = tp / (tp + fn + self.smoothing)\n",
    "        f1 = (2 * p * r) / (p + r + self.smoothing)\n",
    "        return Score(class_label, p, r, f1)\n",
    "    \n",
    "    def compute_micro_score(self):\n",
    "        df = pd.read_csv(self.results_file, delimiter=\"\\t\")\n",
    "        # ignore the negative majority class\n",
    "        df = df[df.Gold != self.neg_class]\n",
    "        # compute micro p, r, and f1\n",
    "        tp = len(df[(df.Gold == df.Predicted)])\n",
    "        fp = len(df[(df.Predicted != self.neg_class)]) - tp\n",
    "        fn = len(df[df.Gold != self.neg_class]) - tp\n",
    "        p = tp / (tp + fp)\n",
    "        r = tp / (tp + fn)\n",
    "        f1 = (2 * p * r) / (p + r)\n",
    "\n",
    "        return Score(\"MICRO\", p, r, f1)\n",
    "        \n",
    "    def compute_macro_score(self):\n",
    "        df = pd.read_csv(self.results_file, delimiter=\"\\t\")\n",
    "        scores = [self.compute_class_score(cl) for cl in set(df.Gold.values)]\n",
    "        p = 0\n",
    "        r = 0\n",
    "        f1 = 0\n",
    "        pos_classes = [s for s in scores if s.class_label != self.neg_class]\n",
    "        for s in pos_classes:    \n",
    "            p += s.precision\n",
    "            r += s.recall\n",
    "            f1 += s.f1\n",
    "            \n",
    "        return Score(\"MACRO ({} classes)\".format(len(pos_classes)), p/len(pos_classes), r/len(pos_classes), f1/len(pos_classes))\n",
    "            \n",
    "    def generate_scores_df(self):\n",
    "        df = pd.read_csv(self.results_file, delimiter=\"\\t\")\n",
    "        header = (\"Class\", \"Precision\", \"Recall\", \"F1\")\n",
    "        scores = [self.compute_class_score(cl) for cl in set(df.Gold.values)]\n",
    "        data = [(s.class_label, s.precision, s.recall, s.f1) for s in scores]\n",
    "        macro = self.compute_macro_score()\n",
    "        micro = self.compute_micro_score()\n",
    "        data += [(macro.class_label, macro.precision, macro.recall, macro.f1), (micro.class_label, micro.precision, micro.recall, micro.f1)]\n",
    "        return pd.DataFrame(data, columns=header)"
   ]
  },
  {
   "cell_type": "code",
   "execution_count": 86,
   "metadata": {
    "collapsed": false
   },
   "outputs": [
    {
     "name": "stdout",
     "output_type": "stream",
     "text": [
      "MACRO (2 classes)\tPrecision\tRecall\tF1\n",
      "0.50\t0.10\t0.17\n",
      "MICRO\tPrecision\tRecall\tF1\n",
      "1.00\t0.18\t0.31\n"
     ]
    }
   ],
   "source": [
    "evaluator = Evaluator(\"results.tsv\", \"None\")\n",
    "\n",
    "macro= evaluator.compute_macro_score()\n",
    "macro.summary()\n",
    "micro = evaluator.compute_micro_score()\n",
    "micro.summary()"
   ]
  },
  {
   "cell_type": "code",
   "execution_count": 87,
   "metadata": {
    "collapsed": false
   },
   "outputs": [
    {
     "data": {
      "text/html": [
       "<div>\n",
       "<table border=\"1\" class=\"dataframe\">\n",
       "  <thead>\n",
       "    <tr style=\"text-align: right;\">\n",
       "      <th></th>\n",
       "      <th>Class</th>\n",
       "      <th>Precision</th>\n",
       "      <th>Recall</th>\n",
       "      <th>F1</th>\n",
       "    </tr>\n",
       "  </thead>\n",
       "  <tbody>\n",
       "    <tr>\n",
       "      <th>0</th>\n",
       "      <td>E1 precedes E2</td>\n",
       "      <td>1.00</td>\n",
       "      <td>0.20</td>\n",
       "      <td>0.34</td>\n",
       "    </tr>\n",
       "    <tr>\n",
       "      <th>1</th>\n",
       "      <td>None</td>\n",
       "      <td>0.84</td>\n",
       "      <td>0.96</td>\n",
       "      <td>0.90</td>\n",
       "    </tr>\n",
       "    <tr>\n",
       "      <th>2</th>\n",
       "      <td>E2 precedes E1</td>\n",
       "      <td>0.00</td>\n",
       "      <td>0.00</td>\n",
       "      <td>0.00</td>\n",
       "    </tr>\n",
       "    <tr>\n",
       "      <th>3</th>\n",
       "      <td>MACRO (2 classes)</td>\n",
       "      <td>0.50</td>\n",
       "      <td>0.10</td>\n",
       "      <td>0.17</td>\n",
       "    </tr>\n",
       "    <tr>\n",
       "      <th>4</th>\n",
       "      <td>MICRO</td>\n",
       "      <td>1.00</td>\n",
       "      <td>0.18</td>\n",
       "      <td>0.31</td>\n",
       "    </tr>\n",
       "  </tbody>\n",
       "</table>\n",
       "</div>"
      ],
      "text/plain": [
       "               Class  Precision  Recall    F1\n",
       "0     E1 precedes E2       1.00    0.20  0.34\n",
       "1               None       0.84    0.96  0.90\n",
       "2     E2 precedes E1       0.00    0.00  0.00\n",
       "3  MACRO (2 classes)       0.50    0.10  0.17\n",
       "4              MICRO       1.00    0.18  0.31"
      ]
     },
     "execution_count": 87,
     "metadata": {},
     "output_type": "execute_result"
    }
   ],
   "source": [
    "evaluator.generate_scores_df().round(2)"
   ]
  }
 ],
 "metadata": {
  "kernelspec": {
   "display_name": "Python 3",
   "language": "python",
   "name": "python3"
  },
  "language_info": {
   "codemirror_mode": {
    "name": "ipython",
    "version": 3
   },
   "file_extension": ".py",
   "mimetype": "text/x-python",
   "name": "python",
   "nbconvert_exporter": "python",
   "pygments_lexer": "ipython3",
   "version": "3.5.1"
  }
 },
 "nbformat": 4,
 "nbformat_minor": 0
}
