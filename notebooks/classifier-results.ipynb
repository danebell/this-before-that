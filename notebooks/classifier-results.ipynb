{
 "cells": [
  {
   "cell_type": "code",
   "execution_count": 183,
   "metadata": {
    "collapsed": false
   },
   "outputs": [],
   "source": [
    "import pandas as pd\n",
    "\n",
    "class Score(object):\n",
    "    def __init__(self, class_label, p, r, f1, tp, fp, fn):\n",
    "        self.class_label = class_label\n",
    "        self.precision = p\n",
    "        self.recall = r\n",
    "        self.f1 = f1\n",
    "        self.tp = tp\n",
    "        self.fp = fp\n",
    "        self.fn = fn\n",
    "        \n",
    "    def summary(self):\n",
    "        print(\"{}\\tPrecision\\tRecall\\tF1\".format(self.class_label))\n",
    "        print(\"{:.2f}\\t{:.2f}\\t{:.2f}\".format(self.precision, self.recall, self.f1))\n",
    "\n",
    "class Evaluator(object):\n",
    "    def __init__(self, results_file, neg_class = \"None\"):\n",
    "        self.results_file = results_file\n",
    "        self.neg_class = neg_class\n",
    "        self.smoothing = 0.00001\n",
    "        \n",
    "    def compute_class_score(self, class_label):\n",
    "        df = pd.read_csv(self.results_file, delimiter=\"\\t\")\n",
    "        tp = len(df[(df.Gold == df.Predicted) & (df.Gold == class_label)])        \n",
    "        fp = len(df[(df.Gold != df.Predicted) & (df.Predicted == class_label) & (df.Gold != class_label)])\n",
    "        p = tp / (tp + fp + self.smoothing)\n",
    "        fn = len(df[(df.Gold == class_label)]) - tp\n",
    "        r = tp / (tp + fn + self.smoothing)\n",
    "        f1 = (2 * p * r) / (p + r + self.smoothing)\n",
    "        return Score(class_label, p, r, f1, tp, fp, fn)\n",
    "    \n",
    "    def compute_micro_score(self):\n",
    "        df = pd.read_csv(self.results_file, delimiter=\"\\t\")\n",
    "        # ignore instances where negative class was predicted\n",
    "        pos_predictions = len(df[df.Predicted != self.neg_class])\n",
    "        # num. positive predictions that are correct\n",
    "        tp = len(df[(df.Gold == df.Predicted) & (df.Predicted != self.neg_class)])\n",
    "        # num. positive predictions that are incorrect\n",
    "        fp = len(df[(df.Gold != df.Predicted) & (df.Predicted != self.neg_class)])\n",
    "        fn = len(df[df.Gold != self.neg_class]) - tp\n",
    "        p = tp / (tp + fp)\n",
    "        r = tp / (tp + fn)\n",
    "        f1 = (2 * p * r) / (p + r)\n",
    "\n",
    "        return Score(\"MICRO\", p, r, f1, tp, fp, fn)\n",
    "        \n",
    "    def compute_macro_score(self):\n",
    "        df = pd.read_csv(self.results_file, delimiter=\"\\t\")\n",
    "        scores = [self.compute_class_score(cl) for cl in set(df.Gold.values)]\n",
    "        p = 0\n",
    "        r = 0\n",
    "        f1 = 0\n",
    "        tp = 0\n",
    "        fp = 0\n",
    "        fn = 0\n",
    "        pos_classes = [s for s in scores if s.class_label != self.neg_class]\n",
    "        for s in pos_classes:    \n",
    "            p += s.precision\n",
    "            r += s.recall\n",
    "            f1 += s.f1\n",
    "            tp += s.tp\n",
    "            fp += s.fp\n",
    "            fn += s.fn\n",
    "            \n",
    "        return Score(\"MACRO\", p/len(pos_classes), r/len(pos_classes), f1/len(pos_classes), tp, fp, fn)\n",
    "            \n",
    "    def generate_scores_df(self):\n",
    "        df = pd.read_csv(self.results_file, delimiter=\"\\t\")\n",
    "        header = (\"Class\", \"P\", \"R\", \"F1\", \"TP\", \"FP\", \"FN\")\n",
    "        scores = [self.compute_class_score(cl) for cl in sorted(set(df.Gold.values))]\n",
    "        data = [(s.class_label, s.precision, s.recall, s.f1, s.tp, s.fp, s.fn) for s in scores]\n",
    "        macro = self.compute_macro_score()\n",
    "        micro = self.compute_micro_score()\n",
    "        data += [(macro.class_label, macro.precision, macro.recall, macro.f1, macro.tp, macro.fp, macro.fn), (micro.class_label, micro.precision, micro.recall, micro.f1, micro.tp, micro.fp, micro.fn)]\n",
    "        return pd.DataFrame(data, columns=header)"
   ]
  },
  {
   "cell_type": "code",
   "execution_count": 182,
   "metadata": {
    "collapsed": false
   },
   "outputs": [
    {
     "name": "stdout",
     "output_type": "stream",
     "text": [
      "MACRO\tPrecision\tRecall\tF1\n",
      "0.25\t0.10\t0.15\n",
      "MICRO\tPrecision\tRecall\tF1\n",
      "0.49\t0.18\t0.26\n"
     ]
    }
   ],
   "source": [
    "evaluator = Evaluator(\"results.tsv\", \"None\")\n",
    "\n",
    "macro= evaluator.compute_macro_score()\n",
    "macro.summary()\n",
    "micro = evaluator.compute_micro_score()\n",
    "micro.summary()"
   ]
  },
  {
   "cell_type": "code",
   "execution_count": 184,
   "metadata": {
    "collapsed": false
   },
   "outputs": [
    {
     "name": "stdout",
     "output_type": "stream",
     "text": [
      "Class\tP\tR\tF1\tTP\tFP\tFN\n",
      "E1 precedes E2\t0.5\t0.2\t0.29\t25\t25\t97\n",
      "E2 precedes E1\t0.0\t0.0\t0.0\t0\t1\t16\n",
      "None\t0.84\t0.96\t0.9\t615\t113\t26\n",
      "MACRO\t0.25\t0.1\t0.15\t25\t26\t113\n",
      "MICRO\t0.49\t0.18\t0.26\t25\t26\t113\n",
      "\n"
     ]
    }
   ],
   "source": [
    "results = evaluator.generate_scores_df().round(2)\n",
    "print(results.to_csv(sep=\"\\t\", index=False))"
   ]
  }
 ],
 "metadata": {
  "kernelspec": {
   "display_name": "Python 3",
   "language": "python",
   "name": "python3"
  },
  "language_info": {
   "codemirror_mode": {
    "name": "ipython",
    "version": 3
   },
   "file_extension": ".py",
   "mimetype": "text/x-python",
   "name": "python",
   "nbconvert_exporter": "python",
   "pygments_lexer": "ipython3",
   "version": "3.5.1"
  }
 },
 "nbformat": 4,
 "nbformat_minor": 0
}
