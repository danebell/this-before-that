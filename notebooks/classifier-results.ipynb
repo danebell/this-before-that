{
 "cells": [
  {
   "cell_type": "code",
   "execution_count": 203,
   "metadata": {
    "collapsed": false
   },
   "outputs": [],
   "source": [
    "import pandas as pd\n",
    "\n",
    "class Score(object):\n",
    "    def __init__(self, class_label, p, r, f1, tp, fp, fn):\n",
    "        self.class_label = class_label\n",
    "        self.precision = p\n",
    "        self.recall = r\n",
    "        self.f1 = f1\n",
    "        self.tp = tp\n",
    "        self.fp = fp\n",
    "        self.fn = fn\n",
    "        \n",
    "    def summary(self):\n",
    "        print(\"{}\\tPrecision\\tRecall\\tF1\".format(self.class_label))\n",
    "        print(\"{:.2f}\\t{:.2f}\\t{:.2f}\".format(self.precision, self.recall, self.f1))\n",
    "\n",
    "class Evaluator(object):\n",
    "    def __init__(self, results_file, neg_class = \"None\"):\n",
    "        self.results_file = results_file\n",
    "        self.neg_class = neg_class\n",
    "        self.smoothing = 0.00001\n",
    "        \n",
    "    def compute_class_score(self, class_label):\n",
    "        df = pd.read_csv(self.results_file, delimiter=\"\\t\")\n",
    "        tp = len(df[(df.Gold == df.Predicted) & (df.Gold == class_label)])        \n",
    "        fp = len(df[(df.Gold != df.Predicted) & (df.Predicted == class_label) & (df.Gold != class_label)])\n",
    "        p = tp / (tp + fp + self.smoothing)\n",
    "        fn = len(df[(df.Gold == class_label)]) - tp\n",
    "        r = tp / (tp + fn + self.smoothing)\n",
    "        f1 = (2 * p * r) / (p + r + self.smoothing)\n",
    "        return Score(class_label, p, r, f1, tp, fp, fn)\n",
    "    \n",
    "    def compute_micro_score(self):\n",
    "        df = pd.read_csv(self.results_file, delimiter=\"\\t\")\n",
    "        # ignore instances where negative class was predicted\n",
    "        pos_predictions = len(df[df.Predicted != self.neg_class])\n",
    "        # num. positive predictions that are correct\n",
    "        tp = len(df[(df.Gold == df.Predicted) & (df.Predicted != self.neg_class)])\n",
    "        # num. positive predictions that are incorrect\n",
    "        fp = len(df[(df.Gold != df.Predicted) & (df.Predicted != self.neg_class)])\n",
    "        fn = len(df[df.Gold != self.neg_class]) - tp\n",
    "        p = tp / (tp + fp + self.smoothing)\n",
    "        r = tp / (tp + fn + self.smoothing)\n",
    "        f1 = (2 * p * r) / (p + r + self.smoothing)\n",
    "\n",
    "        return Score(\"MICRO\", p, r, f1, tp, fp, fn)\n",
    "        \n",
    "    def compute_macro_score(self):\n",
    "        df = pd.read_csv(self.results_file, delimiter=\"\\t\")\n",
    "        scores = [self.compute_class_score(cl) for cl in set(df.Gold.values)]\n",
    "        p = 0\n",
    "        r = 0\n",
    "        f1 = 0\n",
    "        tp = 0\n",
    "        fp = 0\n",
    "        fn = 0\n",
    "        pos_classes = [s for s in scores if s.class_label != self.neg_class]\n",
    "        for s in pos_classes:    \n",
    "            p += s.precision\n",
    "            r += s.recall\n",
    "            f1 += s.f1\n",
    "            tp += s.tp\n",
    "            fp += s.fp\n",
    "            fn += s.fn\n",
    "            \n",
    "        return Score(\"MACRO\", p/len(pos_classes), r/len(pos_classes), f1/len(pos_classes), tp, fp, fn)\n",
    "            \n",
    "    def generate_scores_df(self):\n",
    "        df = pd.read_csv(self.results_file, delimiter=\"\\t\")\n",
    "        header = (\"Class\", \"P\", \"R\", \"F1\", \"TP\", \"FP\", \"FN\")\n",
    "        scores = [self.compute_class_score(cl) for cl in sorted(set(df.Gold.values))]\n",
    "        data = [(s.class_label, s.precision, s.recall, s.f1, s.tp, s.fp, s.fn) for s in scores]\n",
    "        macro = self.compute_macro_score()\n",
    "        micro = self.compute_micro_score()\n",
    "        data += [(macro.class_label, macro.precision, macro.recall, macro.f1, macro.tp, macro.fp, macro.fn), (micro.class_label, micro.precision, micro.recall, micro.f1, micro.tp, micro.fp, micro.fn)]\n",
    "        return pd.DataFrame(data, columns=header)"
   ]
  },
  {
   "cell_type": "code",
   "execution_count": 188,
   "metadata": {
    "collapsed": false
   },
   "outputs": [
    {
     "name": "stdout",
     "output_type": "stream",
     "text": [
      "MACRO\tPrecision\tRecall\tF1\n",
      "0.26\t0.10\t0.14\n",
      "MICRO\tPrecision\tRecall\tF1\n",
      "0.51\t0.17\t0.26\n"
     ]
    }
   ],
   "source": [
    "evaluator = Evaluator(\"results.tsv\", \"None\")\n",
    "\n",
    "macro= evaluator.compute_macro_score()\n",
    "macro.summary()\n",
    "micro = evaluator.compute_micro_score()\n",
    "micro.summary()"
   ]
  },
  {
   "cell_type": "code",
   "execution_count": 189,
   "metadata": {
    "collapsed": false
   },
   "outputs": [
    {
     "name": "stdout",
     "output_type": "stream",
     "text": [
      "Class\tP\tR\tF1\tTP\tFP\tFN\n",
      "E1 precedes E2\t0.52\t0.2\t0.29\t24\t22\t98\n",
      "E2 precedes E1\t0.0\t0.0\t0.0\t0\t1\t16\n",
      "None\t0.84\t0.96\t0.9\t618\t114\t23\n",
      "MACRO\t0.26\t0.1\t0.14\t24\t23\t114\n",
      "MICRO\t0.51\t0.17\t0.26\t24\t23\t114\n",
      "\n"
     ]
    }
   ],
   "source": [
    "results = evaluator.generate_scores_df().round(2)\n",
    "print(results.to_csv(sep=\"\\t\", index=False))"
   ]
  },
  {
   "cell_type": "code",
   "execution_count": 209,
   "metadata": {
    "collapsed": false
   },
   "outputs": [
    {
     "name": "stdout",
     "output_type": "stream",
     "text": [
      "Results for LIN-SVM-L1\n",
      "Class\tP\tR\tF1\tTP\tFP\tFN\n",
      "E1 precedes E2\t0.49\t0.39\t0.43\t65\t68\t101\n",
      "E2 precedes E1\t0.0\t0.0\t0.0\t0\t4\t28\n",
      "None\t0.84\t0.91\t0.87\t652\t123\t66\n",
      "MACRO\t0.24\t0.2\t0.22\t65\t72\t129\n",
      "MICRO\t0.47\t0.34\t0.39\t65\t72\t129\n",
      "\n",
      "Results for LIN-SVM-L2\n",
      "Class\tP\tR\tF1\tTP\tFP\tFN\n",
      "E1 precedes E2\t0.53\t0.3\t0.38\t50\t45\t116\n",
      "E2 precedes E1\t0.25\t0.04\t0.06\t1\t3\t27\n",
      "None\t0.83\t0.94\t0.88\t674\t139\t44\n",
      "MACRO\t0.39\t0.17\t0.22\t51\t48\t143\n",
      "MICRO\t0.52\t0.26\t0.35\t51\t48\t143\n",
      "\n",
      "Results for LR-L1\n",
      "Class\tP\tR\tF1\tTP\tFP\tFN\n",
      "E1 precedes E2\t0.54\t0.36\t0.43\t60\t52\t106\n",
      "E2 precedes E1\t0.0\t0.0\t0.0\t0\t1\t28\n",
      "None\t0.84\t0.93\t0.88\t670\t129\t48\n",
      "MACRO\t0.27\t0.18\t0.22\t60\t53\t134\n",
      "MICRO\t0.53\t0.31\t0.39\t60\t53\t134\n",
      "\n",
      "Results for LR-L2\n",
      "Class\tP\tR\tF1\tTP\tFP\tFN\n",
      "E1 precedes E2\t0.59\t0.27\t0.37\t44\t31\t122\n",
      "E2 precedes E1\t0.0\t0.0\t0.0\t0\t2\t28\n",
      "None\t0.83\t0.96\t0.89\t689\t146\t29\n",
      "MACRO\t0.29\t0.13\t0.18\t44\t33\t150\n",
      "MICRO\t0.57\t0.23\t0.32\t44\t33\t150\n",
      "\n",
      "Results for RF\n",
      "Class\tP\tR\tF1\tTP\tFP\tFN\n",
      "E1 precedes E2\t0.57\t0.23\t0.33\t38\t29\t128\n",
      "E2 precedes E1\t0.5\t0.04\t0.07\t1\t1\t27\n",
      "None\t0.82\t0.96\t0.88\t688\t155\t30\n",
      "MACRO\t0.53\t0.13\t0.2\t39\t30\t155\n",
      "MICRO\t0.57\t0.2\t0.3\t39\t30\t155\n",
      "\n"
     ]
    }
   ],
   "source": [
    "import os\n",
    "for f in os.listdir(\".\"):\n",
    "    if \"-\" in f and f.endswith(\".tsv\") and \"old\" not in f:\n",
    "        model_name = f.split(\"-\", 1)[-1].replace(\".tsv\", \"\")\n",
    "        evaluator = Evaluator(f, \"None\")\n",
    "        results = evaluator.generate_scores_df().round(2)\n",
    "        print(\"Results for {}\".format(model_name.upper()))\n",
    "        print(results.to_csv(sep=\"\\t\", index=False))"
   ]
  }
 ],
 "metadata": {
  "kernelspec": {
   "display_name": "Python 3",
   "language": "python",
   "name": "python3"
  },
  "language_info": {
   "codemirror_mode": {
    "name": "ipython",
    "version": 3
   },
   "file_extension": ".py",
   "mimetype": "text/x-python",
   "name": "python",
   "nbconvert_exporter": "python",
   "pygments_lexer": "ipython3",
   "version": "3.5.1"
  }
 },
 "nbformat": 4,
 "nbformat_minor": 0
}
